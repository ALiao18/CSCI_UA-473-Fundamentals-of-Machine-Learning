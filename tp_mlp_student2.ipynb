{
 "cells": [
  {
   "cell_type": "markdown",
   "id": "65e57a8b",
   "metadata": {},
   "source": [
    "* * *\n",
    "<pre> NYU Paris            <i> Machine Learning - Summer 2023 </i></pre>\n",
    "* * *\n",
    "\n",
    "\n",
    "<h1 align=\"center\"> Lab: the multilayer perceptron </h1>\n",
    "\n",
    "<pre align=\"left\"> June 07th 2023               <i> Author: Guillaume Staerman </i></pre>\n",
    "* * *\n",
    "\n",
    "\n",
    "##### Goal:\n",
    "- Implement your Multilayer perceptron model"
   ]
  },
  {
   "cell_type": "markdown",
   "id": "5a657681",
   "metadata": {},
   "source": [
    "## Installing and importing Pytorch"
   ]
  },
  {
   "cell_type": "code",
   "execution_count": 38,
   "id": "6767c076",
   "metadata": {},
   "outputs": [],
   "source": [
    "import torch\n",
    "from torchvision import datasets\n",
    "from torchvision.transforms import ToTensor\n",
    "\n",
    "\n",
    "# Versions of torch and torchvision have to be compatible.\n",
    "# check here: https://github.com/pytorch/pytorch/wiki/PyTorch-Versions"
   ]
  },
  {
   "cell_type": "code",
   "execution_count": 39,
   "id": "1aeedfa1",
   "metadata": {},
   "outputs": [],
   "source": [
    "import torchvision"
   ]
  },
  {
   "cell_type": "code",
   "execution_count": 40,
   "id": "db6d62e3",
   "metadata": {},
   "outputs": [
    {
     "name": "stdout",
     "output_type": "stream",
     "text": [
      "2.2.2\n",
      "0.17.2\n"
     ]
    }
   ],
   "source": [
    "print(torch.__version__)\n",
    "print(torchvision.__version__)"
   ]
  },
  {
   "cell_type": "markdown",
   "id": "99193052",
   "metadata": {},
   "source": [
    "### Loading and preparing the MNIST dataset"
   ]
  },
  {
   "cell_type": "code",
   "execution_count": 42,
   "id": "0de880eb",
   "metadata": {},
   "outputs": [],
   "source": [
    "# Define training and testing data using the functions in the cell above. \n",
    "\n",
    "train_data = datasets.MNIST(\n",
    "    root=\"data\",\n",
    "    train=True,\n",
    "    download=True,\n",
    "    transform=ToTensor()\n",
    ")\n",
    "\n",
    "test_data = datasets.MNIST(\n",
    "    root=\"data\",\n",
    "    train=False,\n",
    "    download=True,\n",
    "    transform=ToTensor()\n",
    ")"
   ]
  },
  {
   "cell_type": "markdown",
   "id": "75119177",
   "metadata": {},
   "source": [
    "## Question 1\n",
    "\n",
    "### Visualize some elements of the dataset:"
   ]
  },
  {
   "cell_type": "code",
   "execution_count": 99,
   "id": "a58802b5",
   "metadata": {},
   "outputs": [
    {
     "name": "stdout",
     "output_type": "stream",
     "text": [
      "torch.Size([60000, 28, 28])\n",
      "torch.Size([10000, 28, 28])\n"
     ]
    },
    {
     "data": {
      "image/png": "[encoded data removed]",
      "text/plain": [
       "<Figure size 800x800 with 16 Axes>"
      ]
     },
     "metadata": {},
     "output_type": "display_data"
    }
   ],
   "source": [
    "import matplotlib.pyplot as plt\n",
    "# Visualize some images of the MNIST dataset\n",
    "# Size of training data\n",
    "print(train_data.data.shape)\n",
    "\n",
    "# Size of testing data\n",
    "print(test_data.data.shape)\n",
    "\n",
    "labels_map = {\n",
    "    0: \"0\",\n",
    "    1: \"1\",\n",
    "    2: \"2\",\n",
    "    3: \"3\",\n",
    "    4: \"4\",\n",
    "    5: \"5\",\n",
    "    6: \"6\",\n",
    "    7: \"7\",\n",
    "    8: \"8\",\n",
    "    9: \"9\",\n",
    "}\n",
    "\n",
    "figure = plt.figure(figsize=(8, 8))\n",
    "cols, rows = 4, 4\n",
    "for i in range(1, cols * rows + 1):\n",
    "    sample_idx = i\n",
    "    img, label = train_data[sample_idx]\n",
    "    figure.add_subplot(rows, cols, i)\n",
    "    plt.title(labels_map[label])\n",
    "    plt.axis(\"off\")\n",
    "    plt.imshow(img.squeeze(), cmap=\"gray\")\n",
    "plt.show()"
   ]
  },
  {
   "cell_type": "code",
   "execution_count": 44,
   "id": "3c458a20",
   "metadata": {},
   "outputs": [
    {
     "data": {
      "text/plain": [
       "5"
      ]
     },
     "execution_count": 44,
     "metadata": {},
     "output_type": "execute_result"
    }
   ],
   "source": [
    "train_data.targets[0].item()"
   ]
  },
  {
   "cell_type": "markdown",
   "id": "0f2a9a20",
   "metadata": {},
   "source": [
    "## Question 2\n",
    "\n",
    "### Define a dataloader to construct a batch-wise iterator from your train/test data\n"
   ]
  },
  {
   "cell_type": "code",
   "execution_count": 45,
   "id": "de33cb41",
   "metadata": {},
   "outputs": [],
   "source": [
    "from torch.utils.data import DataLoader\n",
    "\n",
    "BATCH_SIZE = 4\n",
    "trainloader = DataLoader(train_data, BATCH_SIZE, shuffle = True) #TODO\n",
    "testloader = DataLoader(test_data, BATCH_SIZE, shuffle = True) #TODO"
   ]
  },
  {
   "cell_type": "markdown",
   "id": "f805dc4e",
   "metadata": {},
   "source": [
    "## Question 3\n",
    "\n",
    "### Design your own Neural Network"
   ]
  },
  {
   "cell_type": "code",
   "execution_count": 46,
   "id": "ee19c7e6",
   "metadata": {},
   "outputs": [],
   "source": [
    "import torch.nn as nn\n",
    "import torch.nn.functional as F\n",
    "# number of features (len of X cols)\n",
    "input_dim = 28 * 28\n",
    "\n",
    "# number of hidden layers\n",
    "hidden_dim = 256\n",
    "\n",
    "# number of classes (unique of y)\n",
    "output_dim = 10\n",
    "\n",
    "class MLP(nn.Module):\n",
    "    def __init__(self):\n",
    "        super(MLP, self).__init__()\n",
    "        self.linear1 = nn.Linear(input_dim, hidden_dim) \n",
    "        self.linear2 = nn.Linear(hidden_dim, output_dim)\n",
    "\n",
    "    def forward(self, x):\n",
    "        x = x.view(x.size(0), -1)\n",
    "        h_relu = F.relu(self.linear1(x)) \n",
    "        y_pred = self.linear2(h_relu) \n",
    "        return y_pred"
   ]
  },
  {
   "cell_type": "markdown",
   "id": "fa46e6fb",
   "metadata": {},
   "source": [
    "## Question 4\n",
    "\n",
    "### Train your neural network on the trainloader"
   ]
  },
  {
   "cell_type": "code",
   "execution_count": 85,
   "id": "9549e4dd",
   "metadata": {},
   "outputs": [
    {
     "name": "stdout",
     "output_type": "stream",
     "text": [
      "<bound method Module.parameters of MLP(\n",
      "  (linear1): Linear(in_features=784, out_features=256, bias=True)\n",
      "  (linear2): Linear(in_features=256, out_features=10, bias=True)\n",
      ")>\n",
      "0 0 2.30393123626709\n",
      "0 2000 2.231048345565796\n",
      "0 4000 2.1454038619995117\n",
      "0 6000 2.1304430961608887\n",
      "0 8000 2.128164052963257\n",
      "0 10000 2.019463062286377\n",
      "0 12000 1.8826464414596558\n",
      "0 14000 1.9724215269088745\n",
      "1 0 1.5392733812332153\n",
      "1 2000 1.6136424541473389\n",
      "1 4000 1.8663523197174072\n",
      "1 6000 1.444358229637146\n",
      "1 8000 1.7603095769882202\n",
      "1 10000 1.8276299238204956\n",
      "1 12000 1.5590591430664062\n",
      "1 14000 1.7035107612609863\n"
     ]
    }
   ],
   "source": [
    "from torch.nn.functional import nll_loss, cross_entropy\n",
    "import torch.optim as optim\n",
    "\n",
    "mlp = MLP()\n",
    "print(mlp.parameters)\n",
    "\n",
    "# Optimizer\n",
    "epochs = 2\n",
    "learning_rate = 1e-6\n",
    "optimizer = optim.Adam(mlp.parameters(), lr=learning_rate)\n",
    "\n",
    "# Choice of the loss\n",
    "criterion = cross_entropy # nll_loss\n",
    "\n",
    "losses = []\n",
    "for t in range(epochs):\n",
    "    for i, data in enumerate(trainloader):\n",
    "        inputs, labels = data\n",
    "        \n",
    "        # set optimizer to zero grad to remove previous epoch gradients\n",
    "        optimizer.zero_grad()\n",
    "        \n",
    "        # Evaluate the loss\n",
    "        outputs = mlp(inputs) \n",
    "        # loss = nll_loss(outputs, labels)\n",
    "        loss = criterion(outputs, labels) \n",
    "        \n",
    "        # backward propagation\n",
    "        loss.backward() \n",
    "        \n",
    "        # One optimization step\n",
    "        optimizer.step() #refers to Adam optimizer\n",
    "        losses.append(loss.item())\n",
    "        \n",
    "        if not i % 2000:\n",
    "            print(t, i, loss.item())"
   ]
  },
  {
   "cell_type": "markdown",
   "id": "62787efd",
   "metadata": {},
   "source": [
    "## Question 5\n",
    "\n",
    "### Inspect the optimization procedure through the loss (plot the loss), what do you observe?"
   ]
  },
  {
   "cell_type": "code",
   "execution_count": 48,
   "id": "dd5615eb",
   "metadata": {},
   "outputs": [
    {
     "data": {
      "image/png": "[encoded data removed]",
      "text/plain": [
       "<Figure size 640x480 with 1 Axes>"
      ]
     },
     "metadata": {},
     "output_type": "display_data"
    },
    {
     "name": "stdout",
     "output_type": "stream",
     "text": [
      "initial loss:  2.3169124126434326 final loss:  1.5282812118530273\n"
     ]
    }
   ],
   "source": [
    "x = range(len(losses))\n",
    "y = losses\n",
    "\n",
    "plt.plot(x, y)\n",
    "plt.show()\n",
    "\n",
    "print(\"initial loss: \", losses[0], \"final loss: \", losses[-1])"
   ]
  },
  {
   "cell_type": "markdown",
   "id": "ef9c2157",
   "metadata": {},
   "source": [
    "Since we are using stochastic gradient descent, the batch will be different each time and therefore the gradient will be different each time. Therefore, the loss will oscillate up and down, forming an \"interval\". However, we can observe that the general trend is still going down. We can observe that the loss goes from the initial 2.275009870529175 to 1.757567286491394"
   ]
  },
  {
   "cell_type": "markdown",
   "id": "0e421890",
   "metadata": {},
   "source": [
    "## Question 6\n",
    "\n",
    "### Evaluate the quality of your classifier on the test set"
   ]
  },
  {
   "cell_type": "code",
   "execution_count": 71,
   "id": "91eddf4d",
   "metadata": {},
   "outputs": [
    {
     "name": "stdout",
     "output_type": "stream",
     "text": [
      "tensor(0.8082)\n"
     ]
    }
   ],
   "source": [
    "size_test = test_data.data.shape[0]\n",
    "\n",
    "correct = 0\n",
    "\n",
    "for data in testloader:\n",
    "    inputs, labels = data\n",
    "    outputs = mlp(inputs)\n",
    "    loss = criterion(outputs, labels)\n",
    "    predicted = torch.argmax(outputs, dim = 1)\n",
    "    correct += (predicted == labels).sum()\n",
    "\n",
    "\n",
    "final_accuracy =  correct / size_test\n",
    "\n",
    "print(final_accuracy)"
   ]
  },
  {
   "cell_type": "markdown",
   "id": "97d82e7f",
   "metadata": {},
   "source": [
    "We achieved a 0.8082 accuracy score"
   ]
  },
  {
   "cell_type": "markdown",
   "id": "308cf736",
   "metadata": {},
   "source": [
    "## Question 7 (Bonus)\n",
    "\n",
    "### Repeat this training with different loss (nll/cross_entropy...) and different number of epochs. What do you observe?"
   ]
  },
  {
   "cell_type": "code",
   "execution_count": 105,
   "id": "6990dc64",
   "metadata": {},
   "outputs": [],
   "source": [
    "#with cross entropy loss (already includes softmax), epoch = 4, and an additional layer\n",
    "#epoch means doing one complete pass through the training data\n",
    "\n",
    "#number of features\n",
    "inputDim = 28 * 28\n",
    "\n",
    "#layer 2 dimensions\n",
    "layer2Dim = 256\n",
    "\n",
    "#layer 3 dimensions\n",
    "layer3Dim = 128\n",
    "\n",
    "#number of classes \n",
    "outputDim = 10\n",
    "\n",
    "class MLP_Trial(nn.Module):\n",
    "    def __init__(self):\n",
    "        super(MLP_Trial, self).__init__()\n",
    "        self.linear1 = nn.Linear(inputDim, layer2Dim)\n",
    "        self.linear2 = nn.Linear(layer2Dim, layer3Dim)\n",
    "        self.linear3 = nn.Linear(layer3Dim, outputDim)\n",
    "    \n",
    "    def forward(self, x):\n",
    "        x = x.view(x.size(0), -1) # reshapes [4 (batchsize), 28, 28] to [4, 784]\n",
    "        h_relu_1 = F.relu(self.linear1(x)) \n",
    "        h_relu_2 = F.relu(self.linear2(h_relu_1))\n",
    "        y_pred = self.linear3(h_relu_2)\n",
    "        return F.log_softmax(y_pred, dim = 1)      "
   ]
  },
  {
   "cell_type": "code",
   "execution_count": 106,
   "id": "2660f8a5",
   "metadata": {},
   "outputs": [
    {
     "name": "stdout",
     "output_type": "stream",
     "text": [
      "0 0 2.3146512508392334\n",
      "0 3000 2.2340924739837646\n",
      "0 6000 2.307506799697876\n",
      "0 9000 2.1901981830596924\n",
      "0 12000 2.124803066253662\n",
      "1 0 2.0594747066497803\n",
      "1 3000 1.948743224143982\n",
      "1 6000 1.9955699443817139\n",
      "1 9000 1.9564783573150635\n",
      "1 12000 1.8881559371948242\n",
      "2 0 1.5541242361068726\n",
      "2 3000 1.2559893131256104\n",
      "2 6000 1.5188299417495728\n",
      "2 9000 1.1911333799362183\n",
      "2 12000 0.9760828018188477\n",
      "3 0 0.8150687217712402\n",
      "3 3000 1.671818494796753\n",
      "3 6000 1.1124647855758667\n",
      "3 9000 0.9144277572631836\n",
      "3 12000 1.2195907831192017\n"
     ]
    }
   ],
   "source": [
    "#train MLP_Trial\n",
    "\n",
    "mlp = MLP_Trial()\n",
    "mlp.parameters()\n",
    "\n",
    "#Optimizer\n",
    "epochs = 4\n",
    "learning_rate = 1e-6\n",
    "optimizer = optim.Adam(mlp.parameters(), lr = learning_rate)\n",
    "\n",
    "#choice of loss\n",
    "criterion = nll_loss\n",
    "\n",
    "losses = []\n",
    "\n",
    "for t in range(epochs):\n",
    "    for i, data in enumerate(trainloader):\n",
    "        inputs, labels = data\n",
    "        \n",
    "        #set optimizer to zero grad to improve previous epoch gradients\n",
    "        optimizer.zero_grad()\n",
    "        \n",
    "        #Evalute the loss\n",
    "        outputs = mlp(inputs)\n",
    "        loss = criterion(outputs, labels)\n",
    "        \n",
    "        #backward pass\n",
    "        loss.backward()\n",
    "        \n",
    "        #One optimizer step\n",
    "        optimizer.step() #Adam\n",
    "        losses.append(loss.item())\n",
    "        \n",
    "        if not i % 3000:\n",
    "            print(t, i, loss.item())\n",
    "        "
   ]
  },
  {
   "cell_type": "code",
   "execution_count": 108,
   "id": "e6e643a5",
   "metadata": {},
   "outputs": [
    {
     "data": {
      "image/png": "[encoded data removed]",
      "text/plain": [
       "<Figure size 640x480 with 1 Axes>"
      ]
     },
     "metadata": {},
     "output_type": "display_data"
    },
    {
     "name": "stdout",
     "output_type": "stream",
     "text": [
      "final loss: 0.49695008993148804\n"
     ]
    }
   ],
   "source": [
    "x = range(len(losses))\n",
    "y = losses\n",
    "\n",
    "plt.plot(x, y)\n",
    "plt.show()\n",
    "\n",
    "print(\"final loss:\", losses[-1])"
   ]
  },
  {
   "cell_type": "markdown",
   "id": "88e6c39c",
   "metadata": {},
   "source": [
    "Test the model against the test set"
   ]
  },
  {
   "cell_type": "code",
   "execution_count": 109,
   "id": "5528a8d6",
   "metadata": {},
   "outputs": [
    {
     "name": "stdout",
     "output_type": "stream",
     "text": [
      "tensor(0.8062)\n"
     ]
    }
   ],
   "source": [
    "size_test = test_data.data.shape[0]\n",
    "\n",
    "correct = 0\n",
    "\n",
    "for data in testloader:\n",
    "    inputs, labels = data\n",
    "    outputs = mlp(inputs)\n",
    "    loss = criterion(outputs, labels)\n",
    "    predicted = torch.argmax(outputs, dim = 1)\n",
    "    correct += (predicted == labels).sum()\n",
    "    \n",
    "final_accuracy = correct / size_test\n",
    "print(final_accuracy)"
   ]
  },
  {
   "cell_type": "markdown",
   "id": "638ef211",
   "metadata": {},
   "source": [
    "Even though the model has one additional layer and has smaller loss, there is no improvement in its accuracy. This may be better improved through batch normalization or learning rate scheduling"
   ]
  },
  {
   "cell_type": "code",
   "execution_count": null,
   "id": "2a607add",
   "metadata": {},
   "outputs": [],
   "source": []
  }
 ],
 "metadata": {
  "kernelspec": {
   "display_name": "Python 3 (ipykernel)",
   "language": "python",
   "name": "python3"
  },
  "language_info": {
   "codemirror_mode": {
    "name": "ipython",
    "version": 3
   },
   "file_extension": ".py",
   "mimetype": "text/x-python",
   "name": "python",
   "nbconvert_exporter": "python",
   "pygments_lexer": "ipython3",
   "version": "3.9.18"
  }
 },
 "nbformat": 4,
 "nbformat_minor": 5
}
